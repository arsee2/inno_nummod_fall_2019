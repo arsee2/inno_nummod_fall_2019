{
 "cells": [
  {
   "cell_type": "code",
   "execution_count": 1,
   "metadata": {},
   "outputs": [],
   "source": [
    "import sympy as sp\n",
    "import numpy as np\n",
    "import matplotlib.pyplot as plt"
   ]
  },
  {
   "cell_type": "markdown",
   "metadata": {},
   "source": [
    "### 1. Formulate the statement of the interpolation problem with Cubic Spline [mathematical formula]"
   ]
  },
  {
   "cell_type": "markdown",
   "metadata": {},
   "source": [
    "Given a set of $n + 1$ data points  $(x_{i},y_{i})$ where $x_{i} \\ne x_{j}$ for all $i,j$ : $i\\ne j$.  \n",
    "$a=x_{0}<x_{1}<...x_{n-1}<x_{n}=b$  \n",
    "$f(x_{i}) = y_{i}$  \n",
    "The cubic spline function $S(x)$ have to satisfy following properties:  \n",
    "1) $S(x) \\in C^2[a;b]$  \n",
    "2) on each subinterval $[x_{i-1};x_{i}]$ $S_{i}(x) = ax^3+bx^2+cx+d$ where $i = 1..n$. $S(x) = \\bigcup_{i=0}^{n} S_{i}(x)$  \n",
    "3) $S(x_{i}) = y_{i} $\n",
    "\n",
    "\n",
    "\n"
   ]
  },
  {
   "cell_type": "markdown",
   "metadata": {},
   "source": [
    "### 2. Formulate the functional and differential compatibility conditions [mathematical formula]"
   ]
  },
  {
   "cell_type": "markdown",
   "metadata": {},
   "source": [
    "1) $S_{i}(x_{i})=f(x_{i})$  \n",
    "2) $S_{i}(x_{i+1})=f(x_{i+1})$  \n",
    "3) $S''_{i}(x_{i})=f''(x_{i})$  \n",
    "4) $S''_{i+1}(x_{i+1})=f''(x_{i+1})$"
   ]
  },
  {
   "cell_type": "markdown",
   "metadata": {},
   "source": [
    "### 3. Formulate stitching conditions [mathematical formula]"
   ]
  },
  {
   "cell_type": "markdown",
   "metadata": {},
   "source": [
    "\n",
    "\n",
    "$ S'_{i-1}(x)|_{x=x_{i}}=S'_{i}(x)|_{x=x_{i}} $\n",
    "\n",
    "\n",
    "\n",
    "\n",
    "\n",
    "\n",
    "\n",
    "\n"
   ]
  },
  {
   "cell_type": "markdown",
   "metadata": {},
   "source": [
    "### 4. Justify why these conditions provide you with the required smoothness [thesis text, no more than 500 characters]"
   ]
  },
  {
   "cell_type": "markdown",
   "metadata": {},
   "source": [
    "$S_{i}(x_{i})=f(x_{i})$  and  $S_{i}(x_{i+1})=f(x_{i+1}) \\implies$ $S_{i-1}(x_{i})=f(x_{i})=S_{i}(x_{i})$ -guarantee continuity of function. Since values of functions are the same in grid's nodes and functions are continuies in interval $[x_{i-1};x_{i}]$ because the are cubic functions. \n",
    "\n",
    "$S''_{i}(x_{i})=f''(x_{i})$  and $S''_{i+1}(x_{i+1})=f''(x_{i+1})$ - guarantee continuty of second derivative of function. \n",
    "\n",
    "$ S'_{i-1}(x)|_{x=x_{i}}=S'_{i}(x)|_{x=x_{i}} $ - guarantee continuty of first derivative of function. \n",
    "\n",
    "\n",
    "\n",
    "\n",
    "\n",
    "\n",
    "\n",
    "\n",
    "\n",
    "\n",
    "\n",
    "\n",
    "\n",
    "\n"
   ]
  },
  {
   "cell_type": "markdown",
   "metadata": {},
   "source": [
    "### 5. Derive dependency formula: the dependence of the second derivatives at the grid nodes on the increment of the function (the function values difference on the grid nodes). [Mathematical formulas derivation. Detailed, with clear transitions]"
   ]
  },
  {
   "cell_type": "markdown",
   "metadata": {},
   "source": [
    "### YOUR TEXT/CODE HERE\n",
    "<img src =\"1.jpg\"  />\n",
    "<img src =\"2.jpg\" />\n",
    "\n",
    "\n",
    "\n",
    "\n",
    "\n",
    "\n",
    "\n",
    "\n"
   ]
  },
  {
   "cell_type": "markdown",
   "metadata": {},
   "source": [
    "### 6. Create a system of equations using this formula [Matrix representation. Mathematical formulas]"
   ]
  },
  {
   "cell_type": "markdown",
   "metadata": {},
   "source": [
    "\n",
    "<img src =\"3.jpg\" />\n",
    "\n",
    "\n",
    "\n",
    "\n",
    "\n"
   ]
  },
  {
   "cell_type": "markdown",
   "metadata": {},
   "source": [
    "### 7. Explain what is an unknown variable in this system. whether the system is closed with respect to an unknown variable. What is missing for closure. [Text, no more than 200 characters]"
   ]
  },
  {
   "cell_type": "markdown",
   "metadata": {},
   "source": [
    "$m_{1}$ and $m_{n}$ had to be unknown, but in task 6 I made them zeroes "
   ]
  },
  {
   "cell_type": "markdown",
   "metadata": {},
   "source": [
    "### 8. Bring this matrix to the appropriate form to use the Tridiagonal matrix algorithm [Mathematical derivation. Use Gauss Elimination]"
   ]
  },
  {
   "cell_type": "markdown",
   "metadata": {},
   "source": [
    "matrix in task 6 is already triagonal matrix.\n",
    "\n"
   ]
  },
  {
   "cell_type": "markdown",
   "metadata": {},
   "source": [
    "### 9. Derive formulas of direct pass and reverse pass of Tridiagonal matrix algorithm [Mathematical formals]"
   ]
  },
  {
   "cell_type": "markdown",
   "metadata": {},
   "source": [
    "Assume we have system of equations of following type:\n",
    "$$\\begin{bmatrix}  \n",
    "b_1 & c_1 & 0 & 0 & ... & 0 \\\\ \n",
    "a_2 & b_2 & c_2 & 0 & ... & 0 \\\\ \n",
    "0 & a_3 & b_3 & c_3 & 0 & 0 \\\\ \n",
    ". & . &  &  &  & . \\\\ \n",
    ". & . &  &  &  & . \\\\ \n",
    ". & . &  &  &  & c_{k-1} \\\\ \n",
    "0 & 0 & 0 & 0 & a_k & b_k \\\\ \n",
    "\\end{bmatrix} \\begin{bmatrix}  \n",
    "f_1 \\\\ \n",
    "f_2 \\\\ \n",
    "f_3 \\\\ \n",
    ".\\\\ \n",
    ".\\\\ \n",
    ".\\\\ \n",
    "f_k \\\\ \n",
    "\\end{bmatrix} = \\begin{bmatrix} \n",
    "d_1 \\\\ \n",
    "d_2 \\\\ \n",
    "d_3 \\\\ \n",
    ".\\\\ \n",
    ".\\\\ \n",
    ".\\\\ \n",
    "d_k \\\\ \n",
    "\\end{bmatrix}$$  \n",
    "Using Gauss Elimantion we want to have matrix of follwong type\n",
    "$$\n",
    "\\begin{bmatrix}  \n",
    "1 & c^{*}_1 & 0 & 0 & ... & 0 \\\\ \n",
    "0 & 1 & c^{*}_2 & 0 & ... & 0 \\\\ \n",
    "0 & 0 & 1 & c^{*}_3 & 0 & 0 \\\\ \n",
    ". & . &  &  &  & . \\\\ \n",
    ". & . &  &  &  & . \\\\ \n",
    ". & . &  &  &  & c^{*}_{k-1} \\\\ \n",
    "0 & 0 & 0 & 0 & 0 & 1 \\\\ \n",
    "\\end{bmatrix} \\begin{bmatrix}  \n",
    "f_1 \\\\ \n",
    "f_2 \\\\ \n",
    "f_3 \\\\ \n",
    ".\\\\ \n",
    ".\\\\ \n",
    ".\\\\ \n",
    "f_k \\\\ \n",
    "\\end{bmatrix} = \\begin{bmatrix} \n",
    "d^{*}_1 \\\\ \n",
    "d^{*}_2 \\\\ \n",
    "d^{*}_3 \\\\ \n",
    ".\\\\ \n",
    ".\\\\ \n",
    ".\\\\ \n",
    "d^{*}_k \\\\ \n",
    "\\end{bmatrix}\n",
    "$$ \n",
    "Coefficents  $c^{*}_{i}$ and  $d^{*}_{i}$ can be computer following:\n",
    "\n",
    "$$\n",
    "c^{*}_i = \\left\\{\n",
    "     \\begin{array}{lr}\n",
    "       \\frac{c_1}{b_1} & ; i = 1\\\\\n",
    "       \\frac{c_i}{b_i - c^{*}_{i-1} a_i} & ; i = 2,3,...,k-1\n",
    "     \\end{array}\n",
    "   \\right.\n",
    "$$\n",
    "\n",
    "$$\n",
    "d^{*}_i = \\left\\{\n",
    "     \\begin{array}{lr}\n",
    "       \\frac{d_1}{b_1} & ; i = 1\\\\\n",
    "       \\frac{d_i-d^{*}_{i-1} a_i}{b_i - c^{*}_{i-1} a_i} & ; i = 2,3,...,k-1\n",
    "     \\end{array}\n",
    "   \\right.\n",
    "$$\n",
    "So solution is:\n",
    "$f_k = d^{*}_k, \\qquad f_i = d^{*}_i - c^{*}_i*f_{i+1} \\qquad i = k-1, k-2, ... ,2,1$"
   ]
  },
  {
   "cell_type": "markdown",
   "metadata": {},
   "source": [
    "### 10. Implement code prototype of the future algorithm implementation. Classes/methods (if you use OOP), functions. The final implementation (on language chosen by you) should not differ from the functions declared in the prototype. [Python code]"
   ]
  },
  {
   "cell_type": "code",
   "execution_count": 1,
   "metadata": {},
   "outputs": [],
   "source": [
    "### YOUR CODE HERE\n",
    "\n",
    "def build_matrix(data_points):\n",
    "    pass\n",
    "\n",
    "def solve_triadiagonal_matrix(matrix):\n",
    "    pass\n",
    "class polynom:\n",
    "    def __init__(self,m_s,points):\n",
    "        self.ms = m_s\n",
    "        self.points = points\n",
    "        pass\n",
    "    def build():\n",
    "        pass\n",
    "    def compute(points):\n",
    "        pass\n",
    "\n",
    "    \n",
    "def main():\n",
    "    pass\n",
    "    \n",
    "\n",
    "\n",
    "\n",
    "\n",
    "\n",
    "\n"
   ]
  },
  {
   "cell_type": "markdown",
   "metadata": {},
   "source": [
    "### 11. Derive formula of Cubic Spline method error [Mathematical formulas]"
   ]
  },
  {
   "cell_type": "markdown",
   "metadata": {},
   "source": [
    "\n",
    "<img src =\"4.jpg\" />\n",
    "\n",
    "\n",
    "\n",
    "\n",
    "\n",
    "\n",
    "\n",
    "\n",
    "\n",
    "\n",
    "\n"
   ]
  },
  {
   "cell_type": "markdown",
   "metadata": {},
   "source": [
    "### 12. Rate the complexity of the algorithm [Text, and rate in terms of big O, no more than 100 characters]"
   ]
  },
  {
   "cell_type": "markdown",
   "metadata": {},
   "source": [
    "### YOUR TEXT/CODE HERE\n",
    "1) The most complicated operation is to solve matrix. Since it is tridiagonal solving can be done in $O(n)$\n",
    "\n",
    "\n",
    "\n",
    "\n",
    "\n"
   ]
  },
  {
   "cell_type": "markdown",
   "metadata": {},
   "source": [
    "### Congrats!"
   ]
  }
 ],
 "metadata": {
  "kernelspec": {
   "display_name": "Python 3",
   "language": "python",
   "name": "python3"
  },
  "language_info": {
   "codemirror_mode": {
    "name": "ipython",
    "version": 3
   },
   "file_extension": ".py",
   "mimetype": "text/x-python",
   "name": "python",
   "nbconvert_exporter": "python",
   "pygments_lexer": "ipython3",
   "version": "3.7.4"
  }
 },
 "nbformat": 4,
 "nbformat_minor": 2
}
