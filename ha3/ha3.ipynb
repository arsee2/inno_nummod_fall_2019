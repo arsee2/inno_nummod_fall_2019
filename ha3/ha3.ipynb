{
 "cells": [
  {
   "cell_type": "code",
   "execution_count": 1,
   "metadata": {},
   "outputs": [],
   "source": [
    "import sympy as sp\n",
    "import numpy as np\n",
    "import matplotlib.pyplot as plt"
   ]
  },
  {
   "cell_type": "markdown",
   "metadata": {},
   "source": [
    "### 1. Derive formula of $L_{2}(x)$ in terms of interpolation phase $ u = \\frac{x - x_{i}}{h} $.  Integrate $ \\hat{I_{i}^{i+2}}$ with received formula as integrand  [mathematical formula]. Usetimation time: ~30m"
   ]
  },
  {
   "cell_type": "markdown",
   "metadata": {},
   "source": [
    "**Note** Use constant step $h = const$ and condition *number of segments is even* $n = 2k$"
   ]
  },
  {
   "cell_type": "markdown",
   "metadata": {},
   "source": [
    "Using Laplacian interpolation  \n",
    "$L_{2} = f_i \\frac{ (x-x_{i+1})(x-x_{i+2})} {(x_i-x_{i+1})(x_i-x_{i+2})} +\n",
    "f_{i+1} \\frac{ (x-x_{i})(x-x_{i+2})} {(x_{i+1}-x_{i})(x_{i+1}-x_{i+2})}+\n",
    "f_{i+2} \\frac{ (x-x_{i+1})(x-x_{i})} {(x_{i+2}-x_{i})(x_{i+2}-x_{i})}$  "
   ]
  },
  {
   "cell_type": "markdown",
   "metadata": {},
   "source": [
    "$x-x_{i+1} = x-x_i+x_i-x_{i+1} = x-x_i -h$  \n",
    "$x-x_{i+2} = x-x_i+x_i-x_{i+2} = x-x_i -2h $  \n",
    "Let $u = \\frac{x - x_{i}}{h} $  \n",
    "$L_{2} = f_i (1-u)(1-\\frac{u}{2}) + f_{i+1}(u)(2-u)+f_{i+2}(\\frac{(u)(u-1)}{2})$  \n",
    "$\\int_{0}^{2} L_{2} h*du$ = $[f_{i}(u-u^2/4-u^2/2-u^3/6)+f_{i+1}(u^3/6-u^2/4)+f_{i+2}(u^3/3-1/4u^2)]h|_0^2 = h(f_{i}+4f_{i+1}+f_{i+2})/3$"
   ]
  },
  {
   "cell_type": "markdown",
   "metadata": {},
   "source": [
    "### 2. Explain how used condition $n = 2k$ helps us in integration. If we want to use odd number of segments we have to integrate with even number of segments but add the value $I_{n-1}^n$. What is the calculation accuracy order of $I_{n-1}^n$? Why? Explain both. [mathematical formula]. Usetimation time: ~30m"
   ]
  },
  {
   "cell_type": "markdown",
   "metadata": {},
   "source": [
    "### YOUR TEXT/CODE HERE\n",
    "\n",
    "We build parabole on 3 points so we need 2 segments for it. If there is one segment, we can't build parabole on two points of this segment.\n",
    "Let $F(x)$ be antiderivative of $I$  \n",
    "Error = $n_{n}^{n-1} - \\hat{n_n^{n-1}}= F_{n+1}-F_n - \\frac{h_{n+1}}{2}(f_n+f_{n+1}) = F_n+h_{n+1}f_n+\\frac{h_{n+1}^2}{2}f'_n+\\frac{h_{n+1}^3}{6}f''(e_n)-F_n-\\frac{-h_{n+1}}{2}(f_n+f_n+h_{n+1}f'_n+\\frac{h_{n+1}^2}{2}f''(e_n))= -\\frac{1}{12}h_{n+1}^3f''(e_n)$  $e_n \\in (x_n,x_{n+1})$\n",
    "\n",
    "\n",
    "\n",
    "\n",
    "\n",
    "\n",
    "\n",
    "\n"
   ]
  },
  {
   "cell_type": "markdown",
   "metadata": {},
   "source": [
    "### 3. Derive the formula of whole $\\hat{I_{a}^{b}}$. Summarize all integrals on segments $\\hat{I_{i}^{i+1}}$ for even case, and for odd case. [mathematical formula]. Usetimation time: ~30m"
   ]
  },
  {
   "cell_type": "markdown",
   "metadata": {},
   "source": [
    "### YOUR TEXT/CODE HERE\n",
    "\n",
    "$I_a^b = h(f_0+4f1+f_2+f_2+4f_3+f_4+f_4+4f_5+f_6...f_n-2+4f_n-1+f_n) =h(f_0+\\sum_{i=1}^kf_{2i-1}+2\\sum_{i=1}^{k-1}f_{2i}+f_{2k}) $  \n",
    "n=2k\n",
    "\n"
   ]
  },
  {
   "cell_type": "markdown",
   "metadata": {},
   "source": [
    "### 4. Derive the formula of trapezoid quadrature formula error estimation. Use Taylor series expansion for antiderivative $F_{i+1}$ and $f_{i+1}$  [mathematical formula] Usetimation time: ~30m"
   ]
  },
  {
   "cell_type": "markdown",
   "metadata": {},
   "source": [
    "### YOUR TEXT/CODE HERE\n",
    "Error = $I_{i}^{i-1} - \\hat{I_i^{i-1}}= F_{i+1}-F_i - \\frac{h_{i+1}}{2}(f_i+f_{i+1}) = F_i+h_{i+1}f_i+\\frac{h_{i+1}^2}{2}f'_i+\\frac{h_{i+1}^3}{6}f''(e_i)-F_i-\\frac{-h_{i+1}}{2}(f_i+f_i+h_{i+1}f'_i+\\frac{h_{i+1}^2}{2}f''(e_i)) = -\\frac{1}{12}h_{i+1}^3f''(e_i)$  $e_i \\in (x_i,x_{i+1})$\n",
    "\n",
    "\n",
    "\n",
    "\n",
    "\n"
   ]
  },
  {
   "cell_type": "markdown",
   "metadata": {},
   "source": [
    "### Congrats!"
   ]
  }
 ],
 "metadata": {
  "kernelspec": {
   "display_name": "Python 3",
   "language": "python",
   "name": "python3"
  },
  "language_info": {
   "codemirror_mode": {
    "name": "ipython",
    "version": 3
   },
   "file_extension": ".py",
   "mimetype": "text/x-python",
   "name": "python",
   "nbconvert_exporter": "python",
   "pygments_lexer": "ipython3",
   "version": "3.6.9"
  }
 },
 "nbformat": 4,
 "nbformat_minor": 2
}
